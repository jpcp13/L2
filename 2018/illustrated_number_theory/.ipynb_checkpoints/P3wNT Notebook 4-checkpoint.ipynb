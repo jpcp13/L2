{
 "cells": [
  {
   "cell_type": "markdown",
   "metadata": {},
   "source": [
    "# Part 4:  Dictionaries, factorization, and multiplicative functions in Python 3.x"
   ]
  },
  {
   "cell_type": "markdown",
   "metadata": {},
   "source": [
    "The *list type* is perfect for keeping track of ordered data.  Here we introduce the *dict* (dictionary) type, which can be used for *key-value pairs*.  This data structure is well suited for storing the prime decomposition of integers, in which each prime (*key*) is given an exponent (*value*).  As we introduce the *dict* type, we also discuss some broader issues of *objects* and *methods* in Python programming.\n",
    "\n",
    "We apply these programming concepts to prime decomposition and multiplicative functions (e.g., the divisor sum function).  This material accompanies Chapter 2 of [An Illustrated Theory of Numbers](http://illustratedtheoryofnumbers.com/index.html)."
   ]
  },
  {
   "cell_type": "markdown",
   "metadata": {},
   "source": [
    "## Table of Contents\n",
    "\n",
    "- [Dictionaries and factorization](#dictfact)\n",
    "- [Multiplicative functions](#multfunc)\n"
   ]
  },
  {
   "cell_type": "markdown",
   "metadata": {},
   "source": [
    "<a id='dictfact'></a>"
   ]
  },
  {
   "cell_type": "markdown",
   "metadata": {},
   "source": [
    "## Dictionaries and factorization"
   ]
  },
  {
   "cell_type": "markdown",
   "metadata": {},
   "source": [
    "### Lists, dictionaries, objects and methods"
   ]
  },
  {
   "cell_type": "markdown",
   "metadata": {},
   "source": [
    "Lists, like `[2,3,5,7]` are data structures built for sequentially ordered data.  The **items** of a list (in this case, the numbers 2,3,5,7) are *indexed* by natural numbers (in this case, the **indices** are 0,1,2,3).  Python allows you to access the items of a list through their index."
   ]
  },
  {
   "cell_type": "code",
   "execution_count": 1,
   "metadata": {
    "collapsed": false
   },
   "outputs": [
    {
     "data": {
      "text/plain": [
       "list"
      ]
     },
     "execution_count": 1,
     "metadata": {},
     "output_type": "execute_result"
    }
   ],
   "source": [
    "L = [2,3,5,7]\n",
    "type(L)"
   ]
  },
  {
   "cell_type": "code",
   "execution_count": 2,
   "metadata": {
    "collapsed": false
   },
   "outputs": [
    {
     "name": "stdout",
     "output_type": "stream",
     "text": [
      "2\n"
     ]
    }
   ],
   "source": [
    "print(L[0])  # What is the output?"
   ]
  },
  {
   "cell_type": "code",
   "execution_count": 3,
   "metadata": {
    "collapsed": false
   },
   "outputs": [
    {
     "name": "stdout",
     "output_type": "stream",
     "text": [
      "7\n"
     ]
    }
   ],
   "source": [
    "print(L[3])  # What is the output?"
   ]
  },
  {
   "cell_type": "code",
   "execution_count": 4,
   "metadata": {
    "collapsed": false
   },
   "outputs": [
    {
     "ename": "IndexError",
     "evalue": "list index out of range",
     "output_type": "error",
     "traceback": [
      "\u001b[0;31m------------------------------------------------------------------------\u001b[0m",
      "\u001b[0;31mIndexError\u001b[0m                             Traceback (most recent call last)",
      "\u001b[0;32m<ipython-input-4-b6bfbd53fcd5>\u001b[0m in \u001b[0;36m<module>\u001b[0;34m()\u001b[0m\n\u001b[0;32m----> 1\u001b[0;31m \u001b[0mprint\u001b[0m\u001b[0;34m(\u001b[0m\u001b[0mL\u001b[0m\u001b[0;34m[\u001b[0m\u001b[0;36m5\u001b[0m\u001b[0;34m]\u001b[0m\u001b[0;34m)\u001b[0m  \u001b[0;31m# This should give an IndexError.\u001b[0m\u001b[0;34m\u001b[0m\u001b[0m\n\u001b[0m",
      "\u001b[0;31mIndexError\u001b[0m: list index out of range"
     ]
    }
   ],
   "source": [
    "print(L[5])  # This should give an IndexError."
   ]
  },
  {
   "cell_type": "markdown",
   "metadata": {},
   "source": [
    "Python **dictionaries** are structures built for data that have a *key-value* structure.  The **keys** are like indices.  But instead of numerical indices (0,1,2,etc.), the keys can be any numbers or strings (technically, any hashable type)!  Each key in the dictionary references a **value**, in the same way that each index of a list references an item.  The syntax for defining a dictionary is `{key1:value1, key2:value2, key3:value3, ...}`.  A first example is below.  You can also read the [official tutorial](https://docs.python.org/3/tutorial/datastructures.html#dictionaries) for more on dictionaries."
   ]
  },
  {
   "cell_type": "code",
   "execution_count": 5,
   "metadata": {
    "collapsed": true
   },
   "outputs": [],
   "source": [
    "nemo = {'species':'clownfish', 'color':'orange', 'age':6}"
   ]
  },
  {
   "cell_type": "code",
   "execution_count": 6,
   "metadata": {
    "collapsed": false
   },
   "outputs": [
    {
     "data": {
      "text/plain": [
       "'orange'"
      ]
     },
     "execution_count": 6,
     "metadata": {},
     "output_type": "execute_result"
    }
   ],
   "source": [
    "nemo['color']  # The key 'color' references the value 'orange'."
   ]
  },
  {
   "cell_type": "code",
   "execution_count": 7,
   "metadata": {
    "collapsed": false
   },
   "outputs": [
    {
     "data": {
      "text/plain": [
       "6"
      ]
     },
     "execution_count": 7,
     "metadata": {},
     "output_type": "execute_result"
    }
   ],
   "source": [
    "nemo['age']  # Predict the result.  Notice the quotes are necessary.  The *string* 'age' is the key."
   ]
  },
  {
   "cell_type": "code",
   "execution_count": 8,
   "metadata": {
    "collapsed": false
   },
   "outputs": [
    {
     "ename": "KeyError",
     "evalue": "1",
     "output_type": "error",
     "traceback": [
      "\u001b[0;31m------------------------------------------------------------------------\u001b[0m",
      "\u001b[0;31mKeyError\u001b[0m                               Traceback (most recent call last)",
      "\u001b[0;32m<ipython-input-8-3d2d5ebc20e6>\u001b[0m in \u001b[0;36m<module>\u001b[0;34m()\u001b[0m\n\u001b[0;32m----> 1\u001b[0;31m \u001b[0mnemo\u001b[0m\u001b[0;34m[\u001b[0m\u001b[0;36m1\u001b[0m\u001b[0;34m]\u001b[0m  \u001b[0;31m# This yields a KeyError, since 1 is not a key in the dictionary.\u001b[0m\u001b[0;34m\u001b[0m\u001b[0m\n\u001b[0m",
      "\u001b[0;31mKeyError\u001b[0m: 1"
     ]
    }
   ],
   "source": [
    "nemo[1]  # This yields a KeyError, since 1 is not a key in the dictionary."
   ]
  },
  {
   "cell_type": "markdown",
   "metadata": {},
   "source": [
    "Dictionaries can have values of any type, and their keys can be numbers or strings.  In this case, the keys are all strings, while the values include strings and integers.  In this way, dictionaries are useful for storing properties of different kinds -- they can be used to store [records](https://en.wikipedia.org/wiki/Record_(computer_science%29 ), as they are called in other programming languages."
   ]
  },
  {
   "cell_type": "markdown",
   "metadata": {},
   "source": [
    "### An interlude on Python objects\n",
    "\n",
    "We have discussed how Python stores data of various *types*:  int, bool, str, list, dict, among others.  But now seems like a good time to discuss the fundamental \"units\" which are stored:  these are called Python **objects**.  If you have executed the cells above, Python is currently storing a lot of objects in your computer's memory.  These objects include `nemo` and `L`.  Also `L[0]` is an object and `nemo['age']` is an object.  Each of these objects are occupying a little space in memory.\n",
    "\n"
   ]
  },
  {
   "cell_type": "markdown",
   "metadata": {},
   "source": [
    "We reference these objects by the names we created, like `nemo` and `L`.  But for internal purposes, Python assigns every object a unique ID number.  You can see an object's ID number with the `id` function."
   ]
  },
  {
   "cell_type": "code",
   "execution_count": 9,
   "metadata": {
    "collapsed": false
   },
   "outputs": [
    {
     "data": {
      "text/plain": [
       "140265977916104"
      ]
     },
     "execution_count": 9,
     "metadata": {},
     "output_type": "execute_result"
    }
   ],
   "source": [
    "id(L)"
   ]
  },
  {
   "cell_type": "code",
   "execution_count": 10,
   "metadata": {
    "collapsed": false
   },
   "outputs": [
    {
     "data": {
      "text/plain": [
       "140265918310856"
      ]
     },
     "execution_count": 10,
     "metadata": {},
     "output_type": "execute_result"
    }
   ],
   "source": [
    "id(nemo)"
   ]
  },
  {
   "cell_type": "code",
   "execution_count": 11,
   "metadata": {
    "collapsed": false
   },
   "outputs": [
    {
     "data": {
      "text/plain": [
       "140266138544704"
      ]
     },
     "execution_count": 11,
     "metadata": {},
     "output_type": "execute_result"
    }
   ],
   "source": [
    "id(L[0])"
   ]
  },
  {
   "cell_type": "markdown",
   "metadata": {},
   "source": [
    "It is sometimes useful to check the ID numbers of objects, to look \"under the hood\" a bit.  For example, consider the following."
   ]
  },
  {
   "cell_type": "code",
   "execution_count": 12,
   "metadata": {
    "collapsed": false
   },
   "outputs": [
    {
     "name": "stdout",
     "output_type": "stream",
     "text": [
      "True\n"
     ]
    }
   ],
   "source": [
    "x = 3\n",
    "y = 3\n",
    "print(x == y)  # This should be true!"
   ]
  },
  {
   "cell_type": "code",
   "execution_count": 13,
   "metadata": {
    "collapsed": false
   },
   "outputs": [
    {
     "data": {
      "text/plain": [
       "140266138544736"
      ]
     },
     "execution_count": 13,
     "metadata": {},
     "output_type": "execute_result"
    }
   ],
   "source": [
    "id(x)"
   ]
  },
  {
   "cell_type": "code",
   "execution_count": 14,
   "metadata": {
    "collapsed": false
   },
   "outputs": [
    {
     "data": {
      "text/plain": [
       "140266138544736"
      ]
     },
     "execution_count": 14,
     "metadata": {},
     "output_type": "execute_result"
    }
   ],
   "source": [
    "id(y)"
   ]
  },
  {
   "cell_type": "markdown",
   "metadata": {},
   "source": [
    "What happened?  You probably noticed that both variables `x` and `y` have the same id number.  That means that Python is being efficient, and not filling up two different slots of memory with the same number (3).  Instead, it puts the number in one memory slot, and uses `x` and `y` as alternative names for this slot.\n",
    "\n",
    "But what happens if we change a value of one variable?"
   ]
  },
  {
   "cell_type": "code",
   "execution_count": 15,
   "metadata": {
    "collapsed": true
   },
   "outputs": [],
   "source": [
    "x = 5"
   ]
  },
  {
   "cell_type": "code",
   "execution_count": 16,
   "metadata": {
    "collapsed": false
   },
   "outputs": [
    {
     "data": {
      "text/plain": [
       "140266138544800"
      ]
     },
     "execution_count": 16,
     "metadata": {},
     "output_type": "execute_result"
    }
   ],
   "source": [
    "id(x)"
   ]
  },
  {
   "cell_type": "code",
   "execution_count": 17,
   "metadata": {
    "collapsed": false
   },
   "outputs": [
    {
     "data": {
      "text/plain": [
       "140266138544736"
      ]
     },
     "execution_count": 17,
     "metadata": {},
     "output_type": "execute_result"
    }
   ],
   "source": [
    "id(y)"
   ]
  },
  {
   "cell_type": "markdown",
   "metadata": {},
   "source": [
    "Python won't be confused by this.  When we assigned `x = 5`, Python opened up a new memory slot for the number 5, and assigned `x` to refer to the number in this new slot.  Note that `y` still \"points\" at the old slot.  Python tries to be smart about memory, remembering where numbers are stored, and putting numbers into slots \"under the hood\" as it sees fit."
   ]
  },
  {
   "cell_type": "code",
   "execution_count": 18,
   "metadata": {
    "collapsed": false
   },
   "outputs": [
    {
     "data": {
      "text/plain": [
       "140266138544736"
      ]
     },
     "execution_count": 18,
     "metadata": {},
     "output_type": "execute_result"
    }
   ],
   "source": [
    "id(3)  # Does Python remember where it put 3?"
   ]
  },
  {
   "cell_type": "code",
   "execution_count": 19,
   "metadata": {
    "collapsed": false
   },
   "outputs": [
    {
     "data": {
      "text/plain": [
       "140266138544800"
      ]
     },
     "execution_count": 19,
     "metadata": {},
     "output_type": "execute_result"
    }
   ],
   "source": [
    "id(5)  # Does Python remember where it put 5?"
   ]
  },
  {
   "cell_type": "code",
   "execution_count": 20,
   "metadata": {
    "collapsed": false
   },
   "outputs": [
    {
     "data": {
      "text/plain": [
       "140266138544768"
      ]
     },
     "execution_count": 20,
     "metadata": {},
     "output_type": "execute_result"
    }
   ],
   "source": [
    "id(4)  #  4 was probably not in memory before.  But now it is!"
   ]
  },
  {
   "cell_type": "code",
   "execution_count": 21,
   "metadata": {
    "collapsed": true
   },
   "outputs": [],
   "source": [
    "y = 5"
   ]
  },
  {
   "cell_type": "code",
   "execution_count": 22,
   "metadata": {
    "collapsed": false
   },
   "outputs": [
    {
     "data": {
      "text/plain": [
       "140266138544800"
      ]
     },
     "execution_count": 22,
     "metadata": {},
     "output_type": "execute_result"
    }
   ],
   "source": [
    "id(y)  #  Did Python change the number in a slot?  Or did it point `y` at another slot?"
   ]
  },
  {
   "cell_type": "code",
   "execution_count": 23,
   "metadata": {
    "collapsed": false
   },
   "outputs": [
    {
     "data": {
      "text/plain": [
       "140266138544800"
      ]
     },
     "execution_count": 23,
     "metadata": {},
     "output_type": "execute_result"
    }
   ],
   "source": [
    "id(L[2]) #  Python doesn't like to waste space."
   ]
  },
  {
   "cell_type": "markdown",
   "metadata": {},
   "source": [
    "This sort of memory management can be helpful to avoid repetetion.  For example, consider a list with repetition."
   ]
  },
  {
   "cell_type": "code",
   "execution_count": 24,
   "metadata": {
    "collapsed": true
   },
   "outputs": [],
   "source": [
    "R = [19,19,19]"
   ]
  },
  {
   "cell_type": "code",
   "execution_count": 25,
   "metadata": {
    "collapsed": false
   },
   "outputs": [
    {
     "data": {
      "text/plain": [
       "140265917879112"
      ]
     },
     "execution_count": 25,
     "metadata": {},
     "output_type": "execute_result"
    }
   ],
   "source": [
    "id(R)  # The list itself is an object."
   ]
  },
  {
   "cell_type": "code",
   "execution_count": 26,
   "metadata": {
    "collapsed": false
   },
   "outputs": [
    {
     "data": {
      "text/plain": [
       "140266138545248"
      ]
     },
     "execution_count": 26,
     "metadata": {},
     "output_type": "execute_result"
    }
   ],
   "source": [
    "id(R[0])  # The 0th item in the list is an object."
   ]
  },
  {
   "cell_type": "code",
   "execution_count": 27,
   "metadata": {
    "collapsed": false
   },
   "outputs": [
    {
     "data": {
      "text/plain": [
       "140266138545248"
      ]
     },
     "execution_count": 27,
     "metadata": {},
     "output_type": "execute_result"
    }
   ],
   "source": [
    "id(R[1])  # The 1st item in the list is an object."
   ]
  },
  {
   "cell_type": "code",
   "execution_count": 28,
   "metadata": {
    "collapsed": false
   },
   "outputs": [
    {
     "data": {
      "text/plain": [
       "140266138545248"
      ]
     },
     "execution_count": 28,
     "metadata": {},
     "output_type": "execute_result"
    }
   ],
   "source": [
    "id(R[2])  # The 2nd item in the list is an object."
   ]
  },
  {
   "cell_type": "markdown",
   "metadata": {},
   "source": [
    "By having each list entry point to the same location in memory, Python avoids having to fill three blocks of memory with the same number 19.   "
   ]
  },
  {
   "cell_type": "markdown",
   "metadata": {},
   "source": [
    "Python *objects* can have **methods** attached to them.  Methods are functions which can utilize and change the data within an object.  The basic syntax for using methods is `<object>.<method>()`.  Here are two examples to get started:  The keys and values of a dictionary can be recovered using the `keys()` and `values()` methods."
   ]
  },
  {
   "cell_type": "code",
   "execution_count": 29,
   "metadata": {
    "collapsed": false
   },
   "outputs": [
    {
     "data": {
      "text/plain": [
       "dict_keys(['species', 'color', 'age'])"
      ]
     },
     "execution_count": 29,
     "metadata": {},
     "output_type": "execute_result"
    }
   ],
   "source": [
    "nemo.keys()  # What are the keys of nemo?"
   ]
  },
  {
   "cell_type": "code",
   "execution_count": 30,
   "metadata": {
    "collapsed": false
   },
   "outputs": [
    {
     "data": {
      "text/plain": [
       "dict_values(['clownfish', 'orange', 6])"
      ]
     },
     "execution_count": 30,
     "metadata": {},
     "output_type": "execute_result"
    }
   ],
   "source": [
    "nemo.values()  # What are the values of nemo?"
   ]
  },
  {
   "cell_type": "markdown",
   "metadata": {},
   "source": [
    "The output of the `keys()` and `values()` methods are list-like.  As such, they are convenient for iteration and membership-testing."
   ]
  },
  {
   "cell_type": "code",
   "execution_count": 31,
   "metadata": {
    "collapsed": false
   },
   "outputs": [
    {
     "data": {
      "text/plain": [
       "True"
      ]
     },
     "execution_count": 31,
     "metadata": {},
     "output_type": "execute_result"
    }
   ],
   "source": [
    "'color' in nemo.keys()"
   ]
  },
  {
   "cell_type": "code",
   "execution_count": 32,
   "metadata": {
    "collapsed": false
   },
   "outputs": [
    {
     "data": {
      "text/plain": [
       "False"
      ]
     },
     "execution_count": 32,
     "metadata": {},
     "output_type": "execute_result"
    }
   ],
   "source": [
    "'taste' in nemo.keys()"
   ]
  },
  {
   "cell_type": "code",
   "execution_count": 33,
   "metadata": {
    "collapsed": false
   },
   "outputs": [
    {
     "data": {
      "text/plain": [
       "False"
      ]
     },
     "execution_count": 33,
     "metadata": {},
     "output_type": "execute_result"
    }
   ],
   "source": [
    "'orange' in nemo.keys()  # Is 'orange' a key in the dictionary?"
   ]
  },
  {
   "cell_type": "code",
   "execution_count": 34,
   "metadata": {
    "collapsed": false
   },
   "outputs": [
    {
     "name": "stdout",
     "output_type": "stream",
     "text": [
      "Nemo's species is clownfish.\n",
      "Nemo's color is orange.\n",
      "Nemo's age is 6.\n"
     ]
    }
   ],
   "source": [
    "for k in nemo.keys():  # Iterates through the keys.\n",
    "    print('Nemo\\'s {} is {}.'.format(k,nemo[k]))  # \\' is used to get a single-quote in a string."
   ]
  },
  {
   "cell_type": "markdown",
   "metadata": {},
   "source": [
    "In fact, Python provides a simpler syntax for iterating over keys or testing membership in keys.  The syntax `for k in <dictionary>:` iterates the variable `k` through the keys of the `<dictionary>`.  Similarly the syntax `k in <dictionary>` is shorthand for `k in <dictionary>.keys()`."
   ]
  },
  {
   "cell_type": "code",
   "execution_count": 35,
   "metadata": {
    "collapsed": false
   },
   "outputs": [
    {
     "name": "stdout",
     "output_type": "stream",
     "text": [
      "Nemo's species is clownfish.\n",
      "Nemo's color is orange.\n",
      "Nemo's age is 6.\n"
     ]
    }
   ],
   "source": [
    "for k in nemo:  # This will iterate through the *keys* of the dictionary nemo.\n",
    "    print('Nemo\\'s {} is {}.'.format(k,nemo[k]))"
   ]
  },
  {
   "cell_type": "markdown",
   "metadata": {},
   "source": [
    "Sometimes we'll want to change a dictionary.  Perhaps we learn that nemo has gotten lost."
   ]
  },
  {
   "cell_type": "code",
   "execution_count": null,
   "metadata": {
    "collapsed": true
   },
   "outputs": [],
   "source": [
    "nemo['status'] = 'lost'"
   ]
  },
  {
   "cell_type": "code",
   "execution_count": null,
   "metadata": {
    "collapsed": true
   },
   "outputs": [],
   "source": [
    "id(nemo)"
   ]
  },
  {
   "cell_type": "code",
   "execution_count": null,
   "metadata": {
    "collapsed": true
   },
   "outputs": [],
   "source": [
    "id('status')"
   ]
  },
  {
   "cell_type": "code",
   "execution_count": null,
   "metadata": {
    "collapsed": true
   },
   "outputs": [],
   "source": [
    "print(nemo)"
   ]
  },
  {
   "cell_type": "markdown",
   "metadata": {},
   "source": [
    "The command `nemo['status'] = 'lost'` creates a *new key* in the dictionary called `'status'` and assigns the value `'lost'` to the key.  If we find nemo, then we can change the value."
   ]
  },
  {
   "cell_type": "code",
   "execution_count": null,
   "metadata": {
    "collapsed": true
   },
   "outputs": [],
   "source": [
    "nemo['status'] = 'found'\n",
    "print(nemo)"
   ]
  },
  {
   "cell_type": "markdown",
   "metadata": {},
   "source": [
    "Since `'status'` is already among the keys of `nemo`, the command `nemo['status'] = 'found'` does not create a new key this time.  It just changes the associated value from `'lost'` to `'found'`."
   ]
  },
  {
   "cell_type": "code",
   "execution_count": null,
   "metadata": {
    "collapsed": true
   },
   "outputs": [],
   "source": [
    "nemo.keys()  # What are the keys of nemo now?"
   ]
  },
  {
   "cell_type": "code",
   "execution_count": null,
   "metadata": {
    "collapsed": true
   },
   "outputs": [],
   "source": [
    "nemo.values()  # What are the values of nemo now?"
   ]
  },
  {
   "cell_type": "markdown",
   "metadata": {},
   "source": [
    "We mentioned earlier that `keys()` and `values()` are **methods** attached to the object `nemo`, and methods are functions which are attached to Python objects. \n",
    "\n",
    "Python objects often (and often by default!) have methods attached to them.  Every dictionary and every list in Python comes with attached methods.  Methods can be used to extract properties of objects or change them.  Here are examples of some list methods."
   ]
  },
  {
   "cell_type": "code",
   "execution_count": null,
   "metadata": {
    "collapsed": true
   },
   "outputs": [],
   "source": [
    "L = [2,3,5,7]\n",
    "print(L) # Let's remember what the list L is."
   ]
  },
  {
   "cell_type": "code",
   "execution_count": null,
   "metadata": {
    "collapsed": true
   },
   "outputs": [],
   "source": [
    "L[0] # What is this?"
   ]
  },
  {
   "cell_type": "code",
   "execution_count": null,
   "metadata": {
    "collapsed": true
   },
   "outputs": [],
   "source": [
    "id(L[0]) # What is the ID number of the 0th item in the list?"
   ]
  },
  {
   "cell_type": "code",
   "execution_count": null,
   "metadata": {
    "collapsed": true
   },
   "outputs": [],
   "source": [
    "L.reverse() # The reverse() method changes L!\n",
    "print(L)"
   ]
  },
  {
   "cell_type": "code",
   "execution_count": null,
   "metadata": {
    "collapsed": true
   },
   "outputs": [],
   "source": [
    "L[0]  # We have definitely changed L."
   ]
  },
  {
   "cell_type": "code",
   "execution_count": null,
   "metadata": {
    "collapsed": true
   },
   "outputs": [],
   "source": [
    "L[3]  # The last item in the list L."
   ]
  },
  {
   "cell_type": "code",
   "execution_count": null,
   "metadata": {
    "collapsed": true
   },
   "outputs": [],
   "source": [
    "id(L[3]) # The ID number of the last item in the list L."
   ]
  },
  {
   "cell_type": "markdown",
   "metadata": {},
   "source": [
    "Observe that Python changed the order of the items in the list.  But it didn't move them around in memory!  The object `2` maintains the same ID number, and stays in the same place in memory.  But the list item `L[0]` points at `2` before reversing while `L[3]` points at `2` after reversing.  This kind of thing is confusing at first, but the general framework is `<variable> points at <memory location>`.  You choose the name of the variable and work with the variable directly.  Python labels each memory location with an ID number, and puts stuff in memory and retrieves values from memory according to your wishes."
   ]
  },
  {
   "cell_type": "code",
   "execution_count": null,
   "metadata": {
    "collapsed": true
   },
   "outputs": [],
   "source": [
    "L.append(11) # Let's add another term to the list with the append(*) method.\n",
    "print(L)"
   ]
  },
  {
   "cell_type": "code",
   "execution_count": null,
   "metadata": {
    "collapsed": true
   },
   "outputs": [],
   "source": [
    "L.sort()  # Let's get this list back in order.\n",
    "print(L)"
   ]
  },
  {
   "cell_type": "markdown",
   "metadata": {},
   "source": [
    "Some more useful list methods can be found at the [official Python tutorial](https://docs.python.org/3/tutorial/datastructures.html#more-on-lists).  "
   ]
  },
  {
   "cell_type": "markdown",
   "metadata": {},
   "source": [
    "### Prime decomposition dictionaries\n",
    "\n",
    "If $N$ is a positive integer, then $N$ can be uniquely decomposed into a product of primes.  Here \"uniquely\" means that $N$ has a unique expression of the form\n",
    "$$N = 2^{e_2} 3^{e_3} 5^{e_5} \\cdots$$\n",
    "in which the exponents $e_2, e_3, e_5$, etc., are natural numbers (and only finitely many are nonzero).\n",
    "\n",
    "A Python dictionary is well-suited to store the resulting prime decomposition.  For example, we might store the prime decomposition $2^3 3^2 7$ with the dictionary `{2:3, 3:2, 7:1}`.  The primes which occur in the decomposition become the *keys* of the dictionary, and the natural number exponents becomes the *values* of the dictionary."
   ]
  },
  {
   "cell_type": "markdown",
   "metadata": {},
   "source": [
    "The functions below decompose a positive integer `N` into primes, storing the result in a dictionary.  The strategy is to repeatedly strip off (divide by) the smallest prime factor of a number, adjusting the dictionary along the way, until the number is reduced to 1.  The first function below finds the smallest prime factor of a number.  "
   ]
  },
  {
   "cell_type": "code",
   "execution_count": null,
   "metadata": {
    "collapsed": true
   },
   "outputs": [],
   "source": [
    "from math import sqrt  # We'll want to use the square root.\n",
    "\n",
    "def smallest_factor(n):\n",
    "    '''\n",
    "    Gives the smallest prime factor of n.\n",
    "    '''\n",
    "    if n < 2:\n",
    "        return None # No prime factors!\n",
    "    \n",
    "    test_factor = 2 # The smallest possible prime factor.\n",
    "    max_factor = sqrt(n) # we don't have to search past sqrt(n).\n",
    "    \n",
    "    while test_factor <= max_factor:\n",
    "        if n%test_factor == 0:\n",
    "            return test_factor\n",
    "        test_factor = test_factor + 1  # This could be sped up.\n",
    "    \n",
    "    return n  # If we didn't find a factor up to sqrt(n), n itself is prime!\n",
    "        "
   ]
  },
  {
   "cell_type": "code",
   "execution_count": null,
   "metadata": {
    "collapsed": true
   },
   "outputs": [],
   "source": [
    "smallest_factor(105)"
   ]
  },
  {
   "cell_type": "code",
   "execution_count": null,
   "metadata": {
    "collapsed": true
   },
   "outputs": [],
   "source": [
    "smallest_factor(1999**2)  # 1999 might be called the Prince of primes."
   ]
  },
  {
   "cell_type": "code",
   "execution_count": null,
   "metadata": {
    "collapsed": true
   },
   "outputs": [],
   "source": [
    "smallest_factor(11**3 * 13**9) # The result should be 11."
   ]
  },
  {
   "cell_type": "code",
   "execution_count": null,
   "metadata": {
    "collapsed": true
   },
   "outputs": [],
   "source": [
    "def decompose(N):\n",
    "    '''\n",
    "    Gives the unique prime decomposition of a positive integer N,\n",
    "    as a dictionary with primes as keys and exponents as values.\n",
    "    '''\n",
    "    current_number = N  # We'll divide out factors from current_number until we get 1.\n",
    "    decomp = {} # An empty dictionary to start.\n",
    "    while current_number > 1:\n",
    "        p = smallest_factor(current_number) # The smallest prime factor of the current number.\n",
    "        if p in decomp.keys():  # Is p already in the list of keys?\n",
    "            decomp[p] = decomp[p] + 1 # Increase the exponent (value with key p) by 1.\n",
    "        else:  # \"else\" here means \"if p is not in decomp.keys()\".\n",
    "            decomp[p] = 1  # Creates a new entry in the dictionary, with key p and value 1.\n",
    "        current_number = current_number // p # Factor out p.  Integer division!\n",
    "    return decomp"
   ]
  },
  {
   "cell_type": "code",
   "execution_count": null,
   "metadata": {
    "collapsed": true
   },
   "outputs": [],
   "source": [
    "decompose(100) # What is the prime decomposition of 100?"
   ]
  },
  {
   "cell_type": "code",
   "execution_count": null,
   "metadata": {
    "collapsed": true
   },
   "outputs": [],
   "source": [
    "decompose(56401910421778813463) # This should be quick."
   ]
  },
  {
   "cell_type": "code",
   "execution_count": null,
   "metadata": {
    "collapsed": true
   },
   "outputs": [],
   "source": [
    "decompose(1)  # Good to test the base case!"
   ]
  },
  {
   "cell_type": "code",
   "execution_count": null,
   "metadata": {
    "collapsed": true
   },
   "outputs": [],
   "source": [
    "#  Use this space to experiment a bit with the decompose function.\n"
   ]
  },
  {
   "cell_type": "markdown",
   "metadata": {},
   "source": [
    "Now that we have a function to compute the prime decomposition of a positive integer, we write a function to recover a positive integer from such a prime decomposition.  The function is deceptively simple, since Python makes it easy to iterate through the keys of a dictionary.  Make sure that you understand every line."
   ]
  },
  {
   "cell_type": "code",
   "execution_count": null,
   "metadata": {
    "collapsed": true
   },
   "outputs": [],
   "source": [
    "def recompose(D):\n",
    "    '''\n",
    "    If D is a dictionary with prime keys and natural values,\n",
    "    this function outputs the product of terms of the form\n",
    "    key^value.  In this way, it recovers a single number from a\n",
    "    prime decomposition.\n",
    "    '''\n",
    "    N = 1\n",
    "    for p in D.keys():  # iterate p through all the keys of D.\n",
    "        N = N * (p ** D[p])  # Note that D[p] refers to the value (exponent) for the key p.\n",
    "    return N"
   ]
  },
  {
   "cell_type": "code",
   "execution_count": null,
   "metadata": {
    "collapsed": true
   },
   "outputs": [],
   "source": [
    "D = decompose(1000)\n",
    "print(D)"
   ]
  },
  {
   "cell_type": "code",
   "execution_count": null,
   "metadata": {
    "collapsed": true
   },
   "outputs": [],
   "source": [
    "recompose(D)  # This should recover 1000."
   ]
  },
  {
   "cell_type": "code",
   "execution_count": null,
   "metadata": {
    "collapsed": true
   },
   "outputs": [],
   "source": [
    "recompose({2:1, 3:1, 5:1, 7:1})  # What will this give?"
   ]
  },
  {
   "cell_type": "code",
   "execution_count": null,
   "metadata": {
    "collapsed": true
   },
   "outputs": [],
   "source": [
    "# Use this space to experiment with decompose and recompose.\n"
   ]
  },
  {
   "cell_type": "markdown",
   "metadata": {},
   "source": [
    "### Exercises\n",
    "\n",
    "1.  Create the list [1,100,2,99,3,98,4,97,...,50,51] with as few list commands as you can.\n",
    "\n",
    "2.  If you try the commands `x = 7`, `y = 11`, then `x,y = y,x`, what do you expect happens with `id(x)` and `id(y)` along the way?\n",
    "\n",
    "3.  How might you adapt the decompose function to work with all integers (positive and negative)?  Note that zero does not have a prime decomposition, but negative numbers have an associated sign.\n",
    "\n",
    "4.  Write a function `multiply(A,B)`, in which the parameters `A` and `B` are prime decomposition dictionaries and the output is the prime decomposition of their product. \n",
    "\n",
    "5.  Write a function `divides(A,B)`, in which the parameters `A` and `B` are prime decomposition dictionaries and the output is a boolean:  True if `A` divides `B` and false otherwise.\n",
    "\n",
    "6.  The *radical* of a positive integer `N` is the positive integer whose prime factors are the same as `N`, but in which every prime occurs with exponent 1.  For example, $rad(500) = 2 \\cdot 5 = 10$.  Write a function `radical(N)` which computes the radical of `N`.  You can use the `decompose(N)` and `recompose(N)` functions along the way."
   ]
  },
  {
   "cell_type": "code",
   "execution_count": null,
   "metadata": {
    "collapsed": true
   },
   "outputs": [],
   "source": [
    "# Use this space for the exercises.\n"
   ]
  },
  {
   "cell_type": "markdown",
   "metadata": {},
   "source": [
    "<a id='multfunc'></a>"
   ]
  },
  {
   "cell_type": "markdown",
   "metadata": {},
   "source": [
    "## Multiplicative functions"
   ]
  },
  {
   "cell_type": "markdown",
   "metadata": {},
   "source": [
    "A *multiplicative function* is a function $f(n)$ which takes positive integer input $n$, and which satisfies $f(1) = 1$ and $f(ab) = f(a) f(b)$ whenever $a$ and $b$ are *coprime*.  A good example is the divisor-sum function, implemented below."
   ]
  },
  {
   "cell_type": "code",
   "execution_count": null,
   "metadata": {
    "collapsed": true
   },
   "outputs": [],
   "source": [
    "def divisor_sum(n):\n",
    "    S = 0 # Start the sum at zero.\n",
    "    for d in range(1,n+1):  # potential divisors between 1 and n.\n",
    "        if n%d == 0:\n",
    "            S = S + d\n",
    "    return S"
   ]
  },
  {
   "cell_type": "code",
   "execution_count": null,
   "metadata": {
    "collapsed": true
   },
   "outputs": [],
   "source": [
    "divisor_sum(100)  # The sum 1 + 2 + 4 + 5 + 10 + 20 + 25 + 50 + 100"
   ]
  },
  {
   "cell_type": "code",
   "execution_count": null,
   "metadata": {
    "collapsed": true
   },
   "outputs": [],
   "source": [
    "%timeit divisor_sum(730) # Let's see how quickly this runs."
   ]
  },
  {
   "cell_type": "markdown",
   "metadata": {},
   "source": [
    "A perfect number is a positive integer which equals the sum of its proper factors (its positive factors, not including itself).  Thus a number $n$ is perfect if its divisor sum equals $2n$.  This can be implemented in a very short function."
   ]
  },
  {
   "cell_type": "code",
   "execution_count": null,
   "metadata": {
    "collapsed": true
   },
   "outputs": [],
   "source": [
    "def is_perfect(n):\n",
    "    return divisor_sum(n) == 2*n"
   ]
  },
  {
   "cell_type": "code",
   "execution_count": null,
   "metadata": {
    "collapsed": true
   },
   "outputs": [],
   "source": [
    "is_perfect(10)"
   ]
  },
  {
   "cell_type": "code",
   "execution_count": null,
   "metadata": {
    "collapsed": true
   },
   "outputs": [],
   "source": [
    "is_perfect(28)"
   ]
  },
  {
   "cell_type": "markdown",
   "metadata": {},
   "source": [
    "Let's find the perfect numbers up to 10000.  It might take a few seconds."
   ]
  },
  {
   "cell_type": "code",
   "execution_count": null,
   "metadata": {
    "collapsed": true
   },
   "outputs": [],
   "source": [
    "for j in range(1,10000):\n",
    "    if is_perfect(j):\n",
    "        print(\"{} is perfect!\".format(j))"
   ]
  },
  {
   "cell_type": "markdown",
   "metadata": {},
   "source": [
    "Multiplicative functions like the divisor sum function can be computed via prime decomposition.  Indeed, if $f$ is a multiplicative function, and $$n = 2^{e_2} 3^{e_3} 5^{e_5} \\cdots,$$ then the value $f(n)$ satisfies\n",
    "$$f(n) = f(2^{e_2}) \\cdot f(3^{e_3}) \\cdot f(5^{e_5}) \\cdots.$$\n",
    "\n",
    "So if we can compute the values of $f$ on prime powers, we can compute the values of $f$ for all positive integers.\n",
    "\n",
    "The following function computes the divisor sum function, for a prime power $p^e$."
   ]
  },
  {
   "cell_type": "code",
   "execution_count": null,
   "metadata": {
    "collapsed": true
   },
   "outputs": [],
   "source": [
    "def divisor_sum_pp(p,e):  # pp stands for prime power\n",
    "    '''\n",
    "    Computes the divisor sum of the prime power p**e,\n",
    "    when p is prime and e is a positive integer.\n",
    "    This is just 1 + p^2 + p^3 + ... + p^e,\n",
    "    simplified using a geometric series formula.\n",
    "    '''\n",
    "    return (p**(e+1) - 1) // (p - 1)"
   ]
  },
  {
   "cell_type": "code",
   "execution_count": null,
   "metadata": {
    "collapsed": true
   },
   "outputs": [],
   "source": [
    "divisor_sum_pp(2,3)  # Should equal 1 + 2 + 4 + 8"
   ]
  },
  {
   "cell_type": "code",
   "execution_count": null,
   "metadata": {
    "collapsed": true
   },
   "outputs": [],
   "source": [
    "divisor_sum_pp(3,1)  # Should equal 1 + 3"
   ]
  },
  {
   "cell_type": "markdown",
   "metadata": {},
   "source": [
    "Now let's re-implement the divisor sum function, using prime decomposition and the divisor_sum_pp function for prime powers."
   ]
  },
  {
   "cell_type": "code",
   "execution_count": null,
   "metadata": {
    "collapsed": true
   },
   "outputs": [],
   "source": [
    "def divisor_sum(n):\n",
    "    '''\n",
    "    Computes the sum of the positive divisors of a \n",
    "    positive integer n.\n",
    "    '''\n",
    "    D = decompose(n)  # We require the decompose function from before!\n",
    "    result = 1\n",
    "    for p in D.keys():\n",
    "        result = result * divisor_sum_pp(p,D[p])\n",
    "    return result\n",
    "    "
   ]
  },
  {
   "cell_type": "code",
   "execution_count": null,
   "metadata": {
    "collapsed": true
   },
   "outputs": [],
   "source": [
    "divisor_sum(15)"
   ]
  },
  {
   "cell_type": "code",
   "execution_count": null,
   "metadata": {
    "collapsed": true
   },
   "outputs": [],
   "source": [
    "% timeit(divisor_sum(730)) # this probably runs faster than the previous version."
   ]
  },
  {
   "cell_type": "markdown",
   "metadata": {},
   "source": [
    "There are a lot of interesting multiplicative functions.  We could implement each one by a two-step process as above:  implementing the function for prime powers, then defining a version for positive integers by using the decompose function.  But there's a shortcut for the second step, which brings in a very cool aspect of Python.\n",
    "\n",
    "In Python, **functions are Python objects**.  \n",
    "\n"
   ]
  },
  {
   "cell_type": "code",
   "execution_count": null,
   "metadata": {
    "collapsed": true
   },
   "outputs": [],
   "source": [
    "type(divisor_sum_pp) # Every object has a type."
   ]
  },
  {
   "cell_type": "code",
   "execution_count": null,
   "metadata": {
    "collapsed": true
   },
   "outputs": [],
   "source": [
    "id(divisor_sum_pp) # Yes, every object gets an ID number."
   ]
  },
  {
   "cell_type": "markdown",
   "metadata": {},
   "source": [
    "Since functions are Python objects, it is possible to define a function which takes a function as input and outputs a function too!  You can pass a function as an input parameter to another function, just as if it were any other variable.  You can output a function with the `return` keyword, just as if it were another variable.  And you can define a new function within the scope of a function!\n",
    "\n",
    "Here's a basic example as a warmup."
   ]
  },
  {
   "cell_type": "code",
   "execution_count": null,
   "metadata": {
    "collapsed": true
   },
   "outputs": [],
   "source": [
    "def addone(x):  # Let's make a simple function.\n",
    "    return x + 1  # It's not a very interesting function, is it."
   ]
  },
  {
   "cell_type": "code",
   "execution_count": null,
   "metadata": {
    "collapsed": true
   },
   "outputs": [],
   "source": [
    "addone(10) # Predict the result."
   ]
  },
  {
   "cell_type": "code",
   "execution_count": null,
   "metadata": {
    "collapsed": true
   },
   "outputs": [],
   "source": [
    "def do_twice(f):\n",
    "    '''\n",
    "    If a function f is input, then the output is the function\n",
    "    \"f composed with f.\"\n",
    "    '''\n",
    "    def ff(x):  # Defines a new function ff!\n",
    "        return f(f(x)) # This is what ff does.\n",
    "    \n",
    "    return ff"
   ]
  },
  {
   "cell_type": "code",
   "execution_count": null,
   "metadata": {
    "collapsed": true
   },
   "outputs": [],
   "source": [
    "addtwo = do_twice(addone)  # addtwo is a function!"
   ]
  },
  {
   "cell_type": "code",
   "execution_count": null,
   "metadata": {
    "collapsed": true
   },
   "outputs": [],
   "source": [
    "addtwo(10)  # What is the result?"
   ]
  },
  {
   "cell_type": "markdown",
   "metadata": {},
   "source": [
    "Now we exploit this function-as-object approach to create a Python function called `mult_function`.  Given a function `f_pp(p,e)`, the function `mult_function` outputs the *multiplicative function* which coincides with `f_pp` on prime powers.  In other words, if `f = mult_function(f_pp)`, then `f(p**e)` will equal `f_pp(p,e)`."
   ]
  },
  {
   "cell_type": "code",
   "execution_count": null,
   "metadata": {
    "collapsed": true
   },
   "outputs": [],
   "source": [
    "def mult_function(f_pp):\n",
    "    '''\n",
    "    When a function f_pp(p,e) of two arguments is input,\n",
    "    this outputs a multiplicative function obtained from f_pp\n",
    "    via prime decomposition.\n",
    "    '''\n",
    "    def f(n):\n",
    "        D = decompose(n)\n",
    "        result = 1\n",
    "        for p in D:\n",
    "            result = result * f_pp(p, D[p])\n",
    "        return result\n",
    "    \n",
    "    return f"
   ]
  },
  {
   "cell_type": "markdown",
   "metadata": {},
   "source": [
    "Let's see how this works for the *divisor-counting* function.  This is the function $\\sigma_0(n)$ whose value is the *number* of positive divisors of $n$.  For prime powers, it is easy to count divisors, $$\\sigma_0(p^e) = e + 1.$$  "
   ]
  },
  {
   "cell_type": "code",
   "execution_count": null,
   "metadata": {
    "collapsed": true
   },
   "outputs": [],
   "source": [
    "def sigma0_pp(p,e):\n",
    "    return e+1"
   ]
  },
  {
   "cell_type": "markdown",
   "metadata": {},
   "source": [
    "Since the divisor-counting function is multiplicative, we can implement it by applying `mult_function` to `sigma0_pp`.  "
   ]
  },
  {
   "cell_type": "code",
   "execution_count": null,
   "metadata": {
    "collapsed": true
   },
   "outputs": [],
   "source": [
    "sigma0 = mult_function(sigma0_pp)"
   ]
  },
  {
   "cell_type": "code",
   "execution_count": null,
   "metadata": {
    "collapsed": true
   },
   "outputs": [],
   "source": [
    "sigma0(100)  # How many divisors does 100 have?"
   ]
  },
  {
   "cell_type": "markdown",
   "metadata": {},
   "source": [
    "### Exercises\n",
    "\n",
    "1.  A positive integer $n$ is called deficient/perfect/abundant according to whether the sum of its proper divisors is less than/equal to/greater than $n$ itself.  Among the numbers up to 10000, how many are deficient, perfect, and abundant?\n",
    "\n",
    "2.  If $f(n)$ is a function with natural number input and real output, define $F(n)$ to be the function given by the formula $F(n) = \\sum_{i=0}^n f(i)$.  Create a function `sumfun(f)` which takes as input a function `f` and outputs the function `F` as described above.\n",
    "\n",
    "3.  Consider the function $f(n)$ which counts the number of positive divisors of $n$ which *are not* divisible by 4.  Verify that this is a multiplicative function, and implement it using `mult_function`.\n",
    "\n",
    "4.  Write a function `foursquare(n)` which counts the number of ways that a positive integer `n` can be expressed as `a*a + b*b + c*c + d*d` for integers `a`, `b`, `c`, `d`.  Hint:  loop the variables through integers between $-\\sqrt{n}$ and $\\sqrt{n}$.  Compare the values of `foursquare(n)` to the multiplicative function in the previous problem.\n",
    "\n",
    "5.  A positive integer is \"square-free\" if it has no square factors besides 1.  The **Mobius** function $\\mu(n)$ is defined by $\\mu(n) = 0$ if $n$ is not square-free, and otherwise $\\mu(n) = 1$ or $\\mu(n) = -1$ according to whether $n$ has an even or odd number of prime factors.  Verify that the Mobius function is multiplicative and implement it.  Try to reproduce the graph of the Mertens function $M(n)$ as described at [Wikipedia's article on the Mertens conjecture](https://en.wikipedia.org/wiki/Mertens_conjecture).  (See the previous Python notebook for an introduction to matplotlib for creating graphs.)\n",
    "\n"
   ]
  },
  {
   "cell_type": "code",
   "execution_count": null,
   "metadata": {
    "collapsed": true
   },
   "outputs": [],
   "source": [
    "#  Use this space to work on the exercises."
   ]
  }
 ],
 "metadata": {
  "kernelspec": {
   "display_name": "Python [default]",
   "language": "python",
   "name": "python3"
  },
  "language_info": {
   "codemirror_mode": {
    "name": "ipython",
    "version": 3
   },
   "file_extension": ".py",
   "mimetype": "text/x-python",
   "name": "python",
   "nbconvert_exporter": "python",
   "pygments_lexer": "ipython3",
   "version": "3.5.2"
  }
 },
 "nbformat": 4,
 "nbformat_minor": 1
}
